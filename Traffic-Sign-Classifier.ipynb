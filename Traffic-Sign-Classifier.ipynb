{
  "cells": [
    {
      "cell_type": "markdown",
      "source": [
        "# Connecting to Google Drive"
      ],
      "metadata": {
        "id": "mYL-v7Ajeztf"
      }
    },
    {
      "cell_type": "code",
      "source": [
        "from google.colab import drive\n",
        "drive.mount('/content/gdrive')"
      ],
      "metadata": {
        "id": "aEhyIJsMexZd"
      },
      "execution_count": null,
      "outputs": []
    },
    {
      "cell_type": "markdown",
      "source": [
        " Install Tensorflow and Tensorboard"
      ],
      "metadata": {
        "id": "nw26-kcscl9K"
      }
    },
    {
      "cell_type": "code",
      "source": [
        "!python -m pip install --upgrade pip\n",
        "!pip install tensorflow\n",
        "!pip install tensorboard"
      ],
      "metadata": {
        "id": "A5rCDMSRclH2"
      },
      "execution_count": null,
      "outputs": []
    },
    {
      "cell_type": "code",
      "source": [
        "!pip install torch"
      ],
      "metadata": {
        "id": "y42WOI6fc7ud"
      },
      "execution_count": null,
      "outputs": []
    },
    {
      "cell_type": "code",
      "source": [
        "import torch\n",
        "from IPython.display import Image"
      ],
      "metadata": {
        "id": "Z_ptbm_6c9rn"
      },
      "execution_count": 6,
      "outputs": []
    },
    {
      "cell_type": "markdown",
      "source": [
        "Clone YOLO V5"
      ],
      "metadata": {
        "id": "TNIJEEQ5dAvO"
      }
    },
    {
      "cell_type": "code",
      "source": [
        "!git clone https://github.com/ultralytics/yolov5.git"
      ],
      "metadata": {
        "id": "G1EiLuIddDJ6"
      },
      "execution_count": null,
      "outputs": []
    },
    {
      "cell_type": "code",
      "source": [
        "%cd yolov5"
      ],
      "metadata": {
        "id": "xLZw_s_ydGyY"
      },
      "execution_count": null,
      "outputs": []
    },
    {
      "cell_type": "code",
      "source": [
        "!pip install -r requirements.txt"
      ],
      "metadata": {
        "id": "_-U4IFYPdI6j"
      },
      "execution_count": null,
      "outputs": []
    },
    {
      "cell_type": "markdown",
      "source": [
        "# fine-tune the trained model with our own dataset\n",
        " Dividing our dataset to train and val\n"
      ],
      "metadata": {
        "id": "cz75YCNddRnQ"
      }
    },
    {
      "cell_type": "code",
      "source": [
        "import os\n",
        "from random import choice\n",
        "import shutil\n",
        "\n",
        "\n",
        "imgs = []\n",
        "xmls = []\n",
        "\n",
        "train_path = '/content/yolov5/data/images/train'\n",
        "val_path = '/content/yolov5/data/images/val'\n",
        "source_path = '/content/gdrive/MyDrive/MyDataset'\n",
        "\n",
        "if not os.path.exists(train_path):\n",
        "  os.mkdir(train_path)\n",
        "if not os.path.exists(val_path):\n",
        "  os.mkdir(val_path)\n",
        "\n",
        "# 80% for train and 20% for validation\n",
        "train_ratio = 0.8\n",
        "val_ratio = 0.2\n",
        "\n",
        "#total count of images\n",
        "totalImgCount = len(os.listdir(source_path))/2\n",
        "\n",
        "#Sorting files to corresponding arrays\n",
        "for (dirname, dirs, files) in os.walk(source_path):\n",
        "  for filename in files:\n",
        "    if filename.endswith('.txt'):\n",
        "      xmls.append(filename)\n",
        "    else:\n",
        "      imgs.append(filename)\n",
        "\n",
        "\n",
        "# Counting range for cycles\n",
        "\n",
        "countForTrain =  int(len(imgs)*train_ratio)\n",
        "countForval = int(len(imgs)*val_ratio)\n",
        "\n",
        "print(\"Training images are: \", countForTrain)\n",
        "print(\"Validation images are: \", countForval)"
      ],
      "metadata": {
        "id": "IbGvGfr9dcVg"
      },
      "execution_count": null,
      "outputs": []
    },
    {
      "cell_type": "code",
      "source": [
        "trainimagePath = '/content/yolov5/data/images/train'\n",
        "trainlabelPath = '/content/yolov5/data/labels/train'\n",
        "valimagePath = '/content/yolov5/data/images/val'\n",
        "vallabelPath = '/content/yolov5/data/labels/val'\n",
        "\n",
        "if not os.path.exists(trainimagePath):\n",
        "  os.mkdir(trainimagePath)\n",
        "\n",
        "if not os.path.exists(trainlabelPath):\n",
        "  os.mkdir(trainlabelPath)\n",
        "\n",
        "if not os.path.exists(valimagePath):\n",
        "  os.mkdir(valimagePath)\n",
        "\n",
        "if not os.path.exists(vallabelPath):\n",
        "  os.mkdir(vallabelPath)\n",
        "\n",
        "for x in range(countForTrain):\n",
        "\n",
        "  fileJpg = choice(imgs)\n",
        "  fileXml = fileJpg[: -4] + '.txt'\n",
        "\n",
        "  shutil.copy(os.path.join(source_path, fileJpg), os.path.join(trainimagePath, fileJpg))\n",
        "  shutil.copy(os.path.join(source_path, fileXml), os.path.join(trainlabelPath, fileXml))\n",
        "\n",
        "\n",
        "  imgs.remove(fileJpg)\n",
        "  xmls.remove(fileXml)\n",
        "\n",
        "\n",
        "for x in range(countForval):\n",
        "\n",
        "  fileJpg = choice(imgs)\n",
        "  fileXml = fileJpg[: -4] + '.txt'\n",
        "\n",
        "  shutil.copy(os.path.join(source_path, fileJpg), os.path.join(valimagePath, fileJpg))\n",
        "  shutil.copy(os.path.join(source_path, fileXml), os.path.join(vallabelPath, fileXml))\n",
        "\n",
        "  imgs.remove(fileJpg)\n",
        "  xmls.remove(fileXml)"
      ],
      "metadata": {
        "id": "g2qvxIeodU-E"
      },
      "execution_count": null,
      "outputs": []
    },
    {
      "cell_type": "markdown",
      "source": [
        "# Using YOLO V5s to train our model\n",
        "daya.yaml is the text file containing our classes"
      ],
      "metadata": {
        "id": "ZG5lW3AAdyDC"
      }
    },
    {
      "cell_type": "code",
      "source": [
        "!python train.py --img 415 --batch 16 --epochs 100 --data daya.yaml --weights yolov5s.pt --cache"
      ],
      "metadata": {
        "id": "weUhg7r8dw_I"
      },
      "execution_count": null,
      "outputs": []
    },
    {
      "cell_type": "markdown",
      "source": [
        "# Using YOLO V5m to train our model\n"
      ],
      "metadata": {
        "id": "SJOTKXbkd72E"
      }
    },
    {
      "cell_type": "code",
      "source": [
        "!python train.py --img 415 --batch 16 --epochs 100 --data daya.yaml --weights yolov5m.pt --cache"
      ],
      "metadata": {
        "id": "Qj3-JH8feA32"
      },
      "execution_count": null,
      "outputs": []
    },
    {
      "cell_type": "markdown",
      "source": [
        "# Detecting signs in the given picture by our model"
      ],
      "metadata": {
        "id": "sbzNW66feGnx"
      }
    },
    {
      "cell_type": "code",
      "source": [
        "!python detect.py --source Picture's path --weights path"
      ],
      "metadata": {
        "id": "Os9AcgjLeMl2"
      },
      "execution_count": null,
      "outputs": []
    }
  ],
  "metadata": {
    "colab": {
      "name": "Welcome To Colaboratory",
      "provenance": []
    },
    "kernelspec": {
      "display_name": "Python 3",
      "name": "python3"
    }
  },
  "nbformat": 4,
  "nbformat_minor": 0
}